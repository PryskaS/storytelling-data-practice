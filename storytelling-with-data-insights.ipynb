{
 "cells": [
  {
   "cell_type": "markdown",
   "id": "2d476406",
   "metadata": {},
   "source": []
  },
  {
   "cell_type": "code",
   "execution_count": 4,
   "id": "45b4cb3d",
   "metadata": {
    "ExecuteTime": {
     "end_time": "2022-03-25T20:58:01.861071Z",
     "start_time": "2022-03-25T20:58:01.212104Z"
    },
    "scrolled": true
   },
   "outputs": [],
   "source": [
    "# bibliotecas built-in\n",
    "import datetime\n",
    "import time\n",
    "import warnings\n",
    "\n",
    "# biblioteca para enconding dos arquivos\n",
    "import chardet\n",
    "\n",
    "# bibliotecas para análise gerais\n",
    "import pandas as pd\n",
    "import numpy as np\n",
    "\n",
    "# bibliotecas usadas para visualização\n",
    "import matplotlib.pyplot as plt\n",
    "# https://blog.quantinsti.com/python-matplotlib-tutorial/?source=google&medium=cpc&campaign=dsa_other_topnations&gclid=Cj0KCQjw0PWRBhDKARIsAPKHFGi7sbP6zcTPTiR0wm9Rhdq-r0VDVqRrjqmHLhaBpW_TZUN73dcsJ_waArYTEALw_wcB\n",
    "import seaborn as sns\n",
    "import missingno as msno\n",
    "# https://github.com/ResidentMario/missingno\n",
    "\n",
    "import plotly.express as px\n",
    "import plotly.graph_objects as go\n",
    "\n",
    "%matplotlib inline\n",
    "\n",
    "# https://github.com/empathy87/storytelling-with-data"
   ]
  },
  {
   "cell_type": "code",
   "execution_count": 7,
   "id": "cfb126d1",
   "metadata": {
    "ExecuteTime": {
     "end_time": "2022-03-25T21:00:17.504891Z",
     "start_time": "2022-03-25T21:00:17.448893Z"
    }
   },
   "outputs": [
    {
     "data": {
      "text/html": [
       "<div>\n",
       "<style scoped>\n",
       "    .dataframe tbody tr th:only-of-type {\n",
       "        vertical-align: middle;\n",
       "    }\n",
       "\n",
       "    .dataframe tbody tr th {\n",
       "        vertical-align: top;\n",
       "    }\n",
       "\n",
       "    .dataframe thead th {\n",
       "        text-align: right;\n",
       "    }\n",
       "</style>\n",
       "<table border=\"1\" class=\"dataframe\">\n",
       "  <thead>\n",
       "    <tr style=\"text-align: right;\">\n",
       "      <th></th>\n",
       "      <th>ID</th>\n",
       "      <th>Year_Birth</th>\n",
       "      <th>Education</th>\n",
       "      <th>Marital_Status</th>\n",
       "      <th>Income</th>\n",
       "      <th>Kidhome</th>\n",
       "      <th>Teenhome</th>\n",
       "      <th>Dt_Customer</th>\n",
       "      <th>Recency</th>\n",
       "      <th>MntWines</th>\n",
       "      <th>...</th>\n",
       "      <th>NumWebVisitsMonth</th>\n",
       "      <th>AcceptedCmp3</th>\n",
       "      <th>AcceptedCmp4</th>\n",
       "      <th>AcceptedCmp5</th>\n",
       "      <th>AcceptedCmp1</th>\n",
       "      <th>AcceptedCmp2</th>\n",
       "      <th>Complain</th>\n",
       "      <th>Z_CostContact</th>\n",
       "      <th>Z_Revenue</th>\n",
       "      <th>Response</th>\n",
       "    </tr>\n",
       "  </thead>\n",
       "  <tbody>\n",
       "    <tr>\n",
       "      <th>1570</th>\n",
       "      <td>4261</td>\n",
       "      <td>1946</td>\n",
       "      <td>PhD</td>\n",
       "      <td>Single</td>\n",
       "      <td>82800.0</td>\n",
       "      <td>0</td>\n",
       "      <td>0</td>\n",
       "      <td>24-11-2012</td>\n",
       "      <td>23</td>\n",
       "      <td>1006</td>\n",
       "      <td>...</td>\n",
       "      <td>3</td>\n",
       "      <td>0</td>\n",
       "      <td>0</td>\n",
       "      <td>1</td>\n",
       "      <td>1</td>\n",
       "      <td>0</td>\n",
       "      <td>0</td>\n",
       "      <td>3</td>\n",
       "      <td>11</td>\n",
       "      <td>1</td>\n",
       "    </tr>\n",
       "  </tbody>\n",
       "</table>\n",
       "<p>1 rows × 29 columns</p>\n",
       "</div>"
      ],
      "text/plain": [
       "        ID  Year_Birth Education Marital_Status   Income  Kidhome  Teenhome  \\\n",
       "1570  4261        1946       PhD         Single  82800.0        0         0   \n",
       "\n",
       "     Dt_Customer  Recency  MntWines  ...  NumWebVisitsMonth  AcceptedCmp3  \\\n",
       "1570  24-11-2012       23      1006  ...                  3             0   \n",
       "\n",
       "      AcceptedCmp4  AcceptedCmp5  AcceptedCmp1  AcceptedCmp2  Complain  \\\n",
       "1570             0             1             1             0         0   \n",
       "\n",
       "      Z_CostContact  Z_Revenue  Response  \n",
       "1570              3         11         1  \n",
       "\n",
       "[1 rows x 29 columns]"
      ]
     },
     "execution_count": 7,
     "metadata": {},
     "output_type": "execute_result"
    }
   ],
   "source": [
    "# Importa os dados\n",
    "dados = 'C:/Users/prisc/Documents/Projetos/6_repositories/storytelling-data-practice/marketing_campaign.csv'\n",
    "\n",
    "df = pd.read_table(dados)\n",
    "df.sample()"
   ]
  },
  {
   "cell_type": "code",
   "execution_count": null,
   "id": "d64a84a6",
   "metadata": {},
   "outputs": [],
   "source": [
    "''' \n",
    "Dados quantitativos com perídos determinados (meses, anos, etc) que precisam ser agrupados em montantes,\n",
    "são melhores visualizados em linhas.\n",
    "'''\n",
    "\n",
    "# Dt_Customer"
   ]
  },
  {
   "cell_type": "code",
   "execution_count": null,
   "id": "9b26f17a",
   "metadata": {},
   "outputs": [],
   "source": []
  }
 ],
 "metadata": {
  "hide_input": false,
  "kernelspec": {
   "display_name": "Python 3",
   "language": "python",
   "name": "python3"
  },
  "language_info": {
   "codemirror_mode": {
    "name": "ipython",
    "version": 3
   },
   "file_extension": ".py",
   "mimetype": "text/x-python",
   "name": "python",
   "nbconvert_exporter": "python",
   "pygments_lexer": "ipython3",
   "version": "3.9.4"
  },
  "toc": {
   "base_numbering": 1,
   "nav_menu": {},
   "number_sections": true,
   "sideBar": true,
   "skip_h1_title": false,
   "title_cell": "Table of Contents",
   "title_sidebar": "Contents",
   "toc_cell": false,
   "toc_position": {},
   "toc_section_display": true,
   "toc_window_display": false
  },
  "varInspector": {
   "cols": {
    "lenName": 16,
    "lenType": 16,
    "lenVar": 40
   },
   "kernels_config": {
    "python": {
     "delete_cmd_postfix": "",
     "delete_cmd_prefix": "del ",
     "library": "var_list.py",
     "varRefreshCmd": "print(var_dic_list())"
    },
    "r": {
     "delete_cmd_postfix": ") ",
     "delete_cmd_prefix": "rm(",
     "library": "var_list.r",
     "varRefreshCmd": "cat(var_dic_list()) "
    }
   },
   "types_to_exclude": [
    "module",
    "function",
    "builtin_function_or_method",
    "instance",
    "_Feature"
   ],
   "window_display": false
  }
 },
 "nbformat": 4,
 "nbformat_minor": 5
}
